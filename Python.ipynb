{
 "cells": [
  {
   "cell_type": "markdown",
   "id": "487ba96a",
   "metadata": {},
   "source": [
    "# Spatial Processing Benchmarks in Python\n",
    "### Krzysztof Dyba"
   ]
  },
  {
   "cell_type": "code",
   "execution_count": 1,
   "id": "02ce653d",
   "metadata": {},
   "outputs": [],
   "source": [
    "# display multiple outputs from single cell\n",
    "from IPython.core.interactiveshell import InteractiveShell\n",
    "InteractiveShell.ast_node_interactivity = \"all\""
   ]
  },
  {
   "cell_type": "code",
   "execution_count": 2,
   "id": "a4654383",
   "metadata": {},
   "outputs": [],
   "source": [
    "# required libraries\n",
    "# import os, zipfile, timeit, random, statistics, urllib.request\n",
    "# import rasterio, rasterio.plot"
   ]
  },
  {
   "cell_type": "markdown",
   "id": "a762079c",
   "metadata": {},
   "source": [
    "## Introduction\n",
    "\n",
    "The primary way to perform a benchmark in Python is to use the `Timer` class from `{timeit}` library.\n",
    "You can view the documentation interactively in Jupyter Notebook by using the question mark \"?\" before the function or by using the dedicated `help()` function.\n",
    "However, first we need to import the library."
   ]
  },
  {
   "cell_type": "code",
   "execution_count": 3,
   "id": "385e827e",
   "metadata": {
    "scrolled": true
   },
   "outputs": [],
   "source": [
    "import timeit\n",
    "?timeit.Timer"
   ]
  },
  {
   "cell_type": "markdown",
   "id": "b016cef9",
   "metadata": {},
   "source": [
    "The use of this function is a bit more complicated than in R.\n",
    "Let's test it as before with the example of sampling numbers with replacement.\n",
    "For this purpose, we can use `choices()` function from the `{random}` library."
   ]
  },
  {
   "cell_type": "code",
   "execution_count": 4,
   "id": "3114f75d",
   "metadata": {},
   "outputs": [
    {
     "data": {
      "text/plain": [
       "[9, 65, 97, 3, 21]"
      ]
     },
     "execution_count": 4,
     "metadata": {},
     "output_type": "execute_result"
    }
   ],
   "source": [
    "import random\n",
    "random.choices(range(1, 100), k = 5)"
   ]
  },
  {
   "cell_type": "markdown",
   "id": "0c4f16eb",
   "metadata": {},
   "source": [
    "Now we will use the `repeat()` function which performs the benchmark multiple times.\n",
    "We need to define:\n",
    "  1. expression as text\n",
    "  2. global namespace\n",
    "  3. number of executions of the expression\n",
    "  4. number of repetitions of the test\n",
    "The result will be a list with timings."
   ]
  },
  {
   "cell_type": "code",
   "execution_count": 5,
   "id": "62bc6de5",
   "metadata": {},
   "outputs": [
    {
     "data": {
      "text/plain": [
       "[0.4387889070000002,\n",
       " 0.35118532000000036,\n",
       " 0.3565279430000001,\n",
       " 0.349307971,\n",
       " 0.3539838959999999]"
      ]
     },
     "execution_count": 5,
     "metadata": {},
     "output_type": "execute_result"
    }
   ],
   "source": [
    "n = 1_000_000\n",
    "t = timeit.repeat(\"random.choices(range(1, 100), k = n)\",\n",
    "                  globals = globals(), number = 1, repeat = 5)\n",
    "t"
   ]
  },
  {
   "cell_type": "markdown",
   "id": "4ce61530",
   "metadata": {},
   "source": [
    "From these values, we can calculate the basic statistics (like mean and standard deviation).\n",
    "Statistical functions can be found in the `{statistics}` library."
   ]
  },
  {
   "cell_type": "code",
   "execution_count": 6,
   "id": "36b2cc38",
   "metadata": {},
   "outputs": [
    {
     "data": {
      "text/plain": [
       "0.37"
      ]
     },
     "execution_count": 6,
     "metadata": {},
     "output_type": "execute_result"
    },
    {
     "data": {
      "text/plain": [
       "0.0386"
      ]
     },
     "execution_count": 6,
     "metadata": {},
     "output_type": "execute_result"
    }
   ],
   "source": [
    "import statistics\n",
    "round(statistics.mean(t), 2)\n",
    "round(statistics.stdev(t), 4)"
   ]
  },
  {
   "cell_type": "markdown",
   "id": "0cc9246c",
   "metadata": {},
   "source": [
    "For Jupyter Notebooks, there is an alternative easier way.\n",
    "We can use the `timeit()` function with a percent symbol:\n",
    "  - `%timeit` to benchmark a single function\n",
    "  - `%%timeit` to benchmark an entire cell"
   ]
  },
  {
   "cell_type": "code",
   "execution_count": 7,
   "id": "d05254f2",
   "metadata": {},
   "outputs": [
    {
     "name": "stdout",
     "output_type": "stream",
     "text": [
      "359 ms ± 7.79 ms per loop (mean ± std. dev. of 5 runs, 1 loop each)\n"
     ]
    }
   ],
   "source": [
    "%timeit -r 5 -n 1 random.choices(range(1, 100), k = n)"
   ]
  },
  {
   "cell_type": "code",
   "execution_count": 8,
   "id": "2f7e7d7c",
   "metadata": {},
   "outputs": [
    {
     "name": "stdout",
     "output_type": "stream",
     "text": [
      "374 ms ± 15.4 ms per loop (mean ± std. dev. of 5 runs, 1 loop each)\n"
     ]
    }
   ],
   "source": [
    "%%timeit -r 5 -n 1\n",
    "random.choices(range(1, 100), k = n)"
   ]
  },
  {
   "cell_type": "markdown",
   "id": "654fbeaf",
   "metadata": {},
   "source": [
    "**Exercise**\n",
    "\n",
    "Compare computing the mean value of the list using `statistics.mean()` and `sum() / len()` functions."
   ]
  },
  {
   "cell_type": "markdown",
   "id": "73351dc5",
   "metadata": {},
   "source": [
    "## Part I: Raster Data\n",
    "\n"
   ]
  },
  {
   "cell_type": "markdown",
   "id": "56dab674",
   "metadata": {},
   "source": [
    "### Data Source\n",
    "\n",
    "For testing, we will use exactly the same raster as in the previous part.\n",
    "For more information, see the [R notebook](https://kadyb.github.io/OGH2022/R.html#Data_Source)."
   ]
  },
  {
   "cell_type": "code",
   "execution_count": 9,
   "id": "3bb1cff4",
   "metadata": {},
   "outputs": [],
   "source": [
    "import os\n",
    "import zipfile\n",
    "import urllib.request\n",
    "\n",
    "url = \"https://srtm.csi.cgiar.org/wp-content/uploads/files/srtm_5x5/TIFF/srtm_39_02.zip\"\n",
    "\n",
    "if not os.path.isdir(\"data\"):\n",
    "    os.mkdir(\"data\")\n",
    "    urllib.request.urlretrieve(url, \"data/srtm.zip\")\n",
    "    with zipfile.ZipFile(\"data/srtm.zip\",\"r\") as zip_ref:\n",
    "        zip_ref.extractall(\"data\") # ~70 MB tif"
   ]
  },
  {
   "cell_type": "markdown",
   "id": "7e19d1b1",
   "metadata": {},
   "source": [
    "### Benchmarks"
   ]
  },
  {
   "cell_type": "code",
   "execution_count": 10,
   "id": "f91e44d9",
   "metadata": {},
   "outputs": [],
   "source": [
    "import rasterio"
   ]
  },
  {
   "cell_type": "markdown",
   "id": "8d2edc46",
   "metadata": {},
   "source": [
    "#### Data Loading\n",
    "\n",
    "From a user perspective, Python requires more programming skills.\n",
    "Consequently, you will have to write more lines of code and the workflow will eventually be more complex.\n",
    "Loading data in `{rasterio}` consists of several steps:\n",
    "  1. Open a connection to a file.\n",
    "  2. Load metadata (e.g. resolution, coordinate system).\n",
    "  3. Load values into Python array.\n",
    "  4. Close the connection to the file.\n",
    "Our raster consists of one band, but if it consisted of many you would have to iterate over all the bands to load them."
   ]
  },
  {
   "cell_type": "code",
   "execution_count": 11,
   "id": "73c734d0",
   "metadata": {},
   "outputs": [],
   "source": [
    "# open connection to file\n",
    "raster = rasterio.open(\"data/srtm_39_02.tif\")\n",
    "\n",
    "# load some metadata\n",
    "extent = raster.bounds\n",
    "crs = raster.crs\n",
    "res = raster.res\n",
    "nlyr = raster.count\n",
    "shape = raster.shape\n",
    "transform = raster.transform\n",
    "\n",
    "# load values\n",
    "# if there are NAs in raster, then use the `masked = True` argument\n",
    "matrix = raster.read(masked = True)\n",
    "\n",
    "# close connection\n",
    "raster.close()"
   ]
  },
  {
   "cell_type": "markdown",
   "id": "679da3b0",
   "metadata": {},
   "source": [
    "Let's print the metadata."
   ]
  },
  {
   "cell_type": "code",
   "execution_count": 12,
   "id": "0a77bc2b",
   "metadata": {},
   "outputs": [
    {
     "name": "stdout",
     "output_type": "stream",
     "text": [
      "BoundingBox(left=10.0, bottom=50.0, right=15.0, top=55.0)\n",
      "EPSG:4326\n",
      "(0.0008333333333333334, 0.0008333333333333334)\n",
      "1\n",
      "(6000, 6000)\n"
     ]
    }
   ],
   "source": [
    "print(extent)\n",
    "print(crs)\n",
    "print(res)\n",
    "print(nlyr)\n",
    "print(shape)"
   ]
  },
  {
   "cell_type": "markdown",
   "id": "7152ffb6",
   "metadata": {},
   "source": [
    "Let's also print the small part of matrix.\n",
    "Note that indexing in Python starts at 0!"
   ]
  },
  {
   "cell_type": "code",
   "execution_count": 13,
   "id": "1ed8a351",
   "metadata": {},
   "outputs": [
    {
     "data": {
      "text/plain": [
       "masked_array(\n",
       "  data=[[--, --, --],\n",
       "        [--, --, --],\n",
       "        [--, --, --]],\n",
       "  mask=[[ True,  True,  True],\n",
       "        [ True,  True,  True],\n",
       "        [ True,  True,  True]],\n",
       "  fill_value=-32768,\n",
       "  dtype=int16)"
      ]
     },
     "execution_count": 13,
     "metadata": {},
     "output_type": "execute_result"
    }
   ],
   "source": [
    "matrix[0, 0:3, 0:3] # check another extent yourself"
   ]
  },
  {
   "cell_type": "markdown",
   "id": "4b5c12a0",
   "metadata": {},
   "source": [
    "Missing values (NA) are marked with the value -32768, and the datatype is int16.\n",
    "We can also check how much space this object takes up in memory using `.nbytes` method."
   ]
  },
  {
   "cell_type": "code",
   "execution_count": 14,
   "id": "65d24341",
   "metadata": {},
   "outputs": [
    {
     "data": {
      "text/plain": [
       "68.66455078125"
      ]
     },
     "execution_count": 14,
     "metadata": {},
     "output_type": "execute_result"
    }
   ],
   "source": [
    "# return result in MB\n",
    "matrix.nbytes / 1024**2"
   ]
  },
  {
   "cell_type": "markdown",
   "id": "c691703c",
   "metadata": {},
   "source": [
    "As you can see, the structure of raster data in `{rasterio}` looks quite different than in R.\n",
    "After the data is loaded, we can visualize it.\n",
    "The easiest way to do this is to use the `show()` function from the `plot` module.\n",
    "By default, the matrix coordinates are stored in the row/column system.\n",
    "To convert them to geographic coordinates you need to use the affine transformation parameters previously stored in the `transform` variable."
   ]
  },
  {
   "cell_type": "code",
   "execution_count": 15,
   "id": "c62d183f",
   "metadata": {},
   "outputs": [
    {
     "data": {
      "image/png": "[encoded data removed]",
      "text/plain": [
       "<Figure size 432x288 with 1 Axes>"
      ]
     },
     "metadata": {
      "needs_background": "light"
     },
     "output_type": "display_data"
    },
    {
     "data": {
      "text/plain": [
       "<AxesSubplot:>"
      ]
     },
     "execution_count": 15,
     "metadata": {},
     "output_type": "execute_result"
    }
   ],
   "source": [
    "from rasterio.plot import show\n",
    "show(matrix, transform = transform)"
   ]
  },
  {
   "cell_type": "markdown",
   "id": "a33a0e05",
   "metadata": {},
   "source": [
    "Now let's perform the benchmark."
   ]
  },
  {
   "cell_type": "code",
   "execution_count": 16,
   "id": "fffcc7d0",
   "metadata": {},
   "outputs": [
    {
     "name": "stdout",
     "output_type": "stream",
     "text": [
      "322 ms ± 8.43 ms per loop (mean ± std. dev. of 5 runs, 1 loop each)\n"
     ]
    }
   ],
   "source": [
    "%%timeit -r 5 -n 1\n",
    "raster = rasterio.open(\"data/srtm_39_02.tif\")\n",
    "matrix = raster.read(masked = True)\n",
    "raster.close()"
   ]
  },
  {
   "cell_type": "markdown",
   "id": "32c53843",
   "metadata": {},
   "source": [
    "#### Cropping"
   ]
  },
  {
   "cell_type": "code",
   "execution_count": 17,
   "id": "89a57ece",
   "metadata": {},
   "outputs": [],
   "source": [
    "# minx, miny, maxx, maxy\n",
    "# ext = box(11, 14, 51, 53)"
   ]
  }
 ],
 "metadata": {
  "kernelspec": {
   "display_name": "Python 3 (ipykernel)",
   "language": "python",
   "name": "python3"
  },
  "language_info": {
   "codemirror_mode": {
    "name": "ipython",
    "version": 3
   },
   "file_extension": ".py",
   "mimetype": "text/x-python",
   "name": "python",
   "nbconvert_exporter": "python",
   "pygments_lexer": "ipython3",
   "version": "3.9.13"
  }
 },
 "nbformat": 4,
 "nbformat_minor": 5
}
