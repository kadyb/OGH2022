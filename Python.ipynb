{
 "cells": [
  {
   "cell_type": "markdown",
   "id": "83080ffc",
   "metadata": {},
   "source": [
    "# Spatial Processing Benchmarks in Python\n",
    "### Krzysztof Dyba"
   ]
  },
  {
   "cell_type": "code",
   "execution_count": 1,
   "id": "dbaa1377",
   "metadata": {},
   "outputs": [],
   "source": [
    "# display multiple outputs from single cell\n",
    "from IPython.core.interactiveshell import InteractiveShell\n",
    "InteractiveShell.ast_node_interactivity = \"all\""
   ]
  },
  {
   "cell_type": "raw",
   "id": "5f5cd72f",
   "metadata": {},
   "source": [
    "# load all libraries\n",
    "import timeit, random, statistics"
   ]
  },
  {
   "cell_type": "markdown",
   "id": "a762079c",
   "metadata": {},
   "source": [
    "## Introduction\n",
    "\n",
    "The primary way to perform a benchmark in Python is to use the `Timer` class from `{timeit}` library.\n",
    "You can view the documentation interactively in Jupyter Notebook by using the question mark \"?\" before the function or by using the dedicated `help()` function.\n",
    "However, first we need to import the library."
   ]
  },
  {
   "cell_type": "code",
   "execution_count": 2,
   "id": "385e827e",
   "metadata": {
    "scrolled": true
   },
   "outputs": [],
   "source": [
    "import timeit\n",
    "?timeit.Timer"
   ]
  },
  {
   "cell_type": "markdown",
   "id": "b016cef9",
   "metadata": {},
   "source": [
    "The use of this function is a bit more complicated than in R.\n",
    "Let's test it as before with the example of sampling numbers with replacement.\n",
    "For this purpose, we can use `choices()` function from the `{random}` library."
   ]
  },
  {
   "cell_type": "code",
   "execution_count": 3,
   "id": "3114f75d",
   "metadata": {},
   "outputs": [
    {
     "data": {
      "text/plain": [
       "[62, 82, 75, 53, 57]"
      ]
     },
     "execution_count": 3,
     "metadata": {},
     "output_type": "execute_result"
    }
   ],
   "source": [
    "import random\n",
    "random.choices(range(1, 100), k = 5)"
   ]
  },
  {
   "cell_type": "markdown",
   "id": "4888c770",
   "metadata": {},
   "source": [
    "Now we will use the `repeat()` function which performs the benchmark multiple times.\n",
    "We need to define:\n",
    "  1. expression as text\n",
    "  2. global namespace\n",
    "  3. number of executions of the expression\n",
    "  4. number of repetitions of the test\n",
    "The result will be a list with timings."
   ]
  },
  {
   "cell_type": "code",
   "execution_count": 4,
   "id": "62bc6de5",
   "metadata": {},
   "outputs": [
    {
     "data": {
      "text/plain": [
       "[0.4491137099999998,\n",
       " 0.3680256270000002,\n",
       " 0.36668360799999977,\n",
       " 0.38022859900000006,\n",
       " 0.3628546049999999]"
      ]
     },
     "execution_count": 4,
     "metadata": {},
     "output_type": "execute_result"
    }
   ],
   "source": [
    "n = 1_000_000\n",
    "t = timeit.repeat(\"random.choices(range(1, 100), k = n)\",\n",
    "                  globals = globals(), number = 1, repeat = 5)\n",
    "t"
   ]
  },
  {
   "cell_type": "markdown",
   "id": "a8db6e71",
   "metadata": {},
   "source": [
    "From these values, we can calculate the basic statistics (like mean and standard deviation).\n",
    "Statistical functions can be found in the `{statistics}` library."
   ]
  },
  {
   "cell_type": "code",
   "execution_count": 5,
   "id": "fa5fbbfb",
   "metadata": {},
   "outputs": [
    {
     "data": {
      "text/plain": [
       "0.39"
      ]
     },
     "execution_count": 5,
     "metadata": {},
     "output_type": "execute_result"
    },
    {
     "data": {
      "text/plain": [
       "0.0362"
      ]
     },
     "execution_count": 5,
     "metadata": {},
     "output_type": "execute_result"
    }
   ],
   "source": [
    "import statistics\n",
    "round(statistics.mean(t), 2)\n",
    "round(statistics.stdev(t), 4)"
   ]
  },
  {
   "cell_type": "markdown",
   "id": "8ab8cc57",
   "metadata": {},
   "source": [
    "For Jupyter Notebooks, there is an alternative easier way.\n",
    "We can use the `timeit()` function with a percent symbol:\n",
    "  - `%timeit` to benchmark a single function\n",
    "  - `%%timeit` to benchmark an entire cell"
   ]
  },
  {
   "cell_type": "code",
   "execution_count": null,
   "id": "dc7a6d96",
   "metadata": {},
   "outputs": [],
   "source": [
    "%timeit -r 5 -n 1 random.choices(range(1, 100), k = n)"
   ]
  },
  {
   "cell_type": "code",
   "execution_count": null,
   "id": "3ff30728",
   "metadata": {},
   "outputs": [],
   "source": [
    "%%timeit -r 5 -n 1\n",
    "random.choices(range(1, 100), k = n)"
   ]
  },
  {
   "cell_type": "markdown",
   "id": "d25f8732",
   "metadata": {},
   "source": [
    "**Exercise**\n",
    "\n",
    "Compare computing the mean value of the list using `statistics.mean()` and `sum() / len()` functions."
   ]
  },
  {
   "cell_type": "markdown",
   "id": "2ffdaadd",
   "metadata": {},
   "source": [
    "## Part I: Raster Data\n",
    "\n"
   ]
  }
 ],
 "metadata": {
  "kernelspec": {
   "display_name": "Python 3 (ipykernel)",
   "language": "python",
   "name": "python3"
  },
  "language_info": {
   "codemirror_mode": {
    "name": "ipython",
    "version": 3
   },
   "file_extension": ".py",
   "mimetype": "text/x-python",
   "name": "python",
   "nbconvert_exporter": "python",
   "pygments_lexer": "ipython3",
   "version": "3.9.13"
  }
 },
 "nbformat": 4,
 "nbformat_minor": 5
}
